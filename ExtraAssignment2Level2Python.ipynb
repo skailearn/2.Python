{
 "cells": [
  {
   "cell_type": "code",
   "execution_count": 1,
   "id": "d00cc7ac-430f-4717-b367-bd77c510b958",
   "metadata": {},
   "outputs": [
    {
     "name": "stdout",
     "output_type": "stream",
     "text": [
      "0\n",
      "1\n",
      "2\n",
      "3\n",
      "4\n",
      "5\n",
      "6\n",
      "7\n",
      "8\n",
      "9\n",
      "10\n",
      "11\n",
      "12\n",
      "13\n",
      "14\n",
      "15\n",
      "16\n",
      "17\n",
      "18\n",
      "19\n"
     ]
    }
   ],
   "source": [
    "#Exercise 1:\n",
    "# print 0 to 20 by using range\n",
    "\n",
    "for i in range(20):\n",
    "    print(i)"
   ]
  },
  {
   "cell_type": "code",
   "execution_count": 13,
   "id": "20e6c6f6-ca45-4428-b089-1a318a76c534",
   "metadata": {},
   "outputs": [
    {
     "name": "stdout",
     "output_type": "stream",
     "text": [
      "10 11 12 13 14 15 16 17 18 19 "
     ]
    }
   ],
   "source": [
    "#Exercise 2:\n",
    "# print range 10 to 20\n",
    "for i in range(10,20):\n",
    "    print(i,end=\" \")"
   ]
  },
  {
   "cell_type": "code",
   "execution_count": 23,
   "id": "aa1c3fb7-1f5f-427c-a2bc-41303d5f629c",
   "metadata": {},
   "outputs": [
    {
     "name": "stdout",
     "output_type": "stream",
     "text": [
      "[10, 20, 14, 55, 43, 87, 76]\n",
      "Number of item in the list2 : 7\n"
     ]
    }
   ],
   "source": [
    "#Exercise 3:\n",
    "# print number of items in the list using 'len'\n",
    "list_1 = [10,20,14,55,43,87,76]\n",
    "print(list_1)\n",
    "print(\"Number of item in the list2 :\", len(list_1))\n"
   ]
  },
  {
   "cell_type": "code",
   "execution_count": 27,
   "id": "12e88ad2-0431-467a-ba45-b649538f46d1",
   "metadata": {},
   "outputs": [
    {
     "name": "stdout",
     "output_type": "stream",
     "text": [
      "A\n",
      "r\n",
      "t\n",
      "i\n",
      "f\n",
      "i\n",
      "c\n",
      "i\n",
      "a\n",
      "l\n",
      " \n",
      "I\n",
      "n\n",
      "t\n",
      "e\n",
      "l\n",
      "l\n",
      "i\n",
      "g\n",
      "e\n",
      "n\n",
      "c\n",
      "e\n"
     ]
    }
   ],
   "source": [
    "#Exercise 4:\n",
    "str = \"Artificial Intelligence\"\n",
    "for i in str:\n",
    "    print(i)"
   ]
  },
  {
   "cell_type": "code",
   "execution_count": 29,
   "id": "4f3f80d0-b6f6-4ef5-aa6b-00cd4ac4dc27",
   "metadata": {},
   "outputs": [
    {
     "name": "stdout",
     "output_type": "stream",
     "text": [
      "- Your Name -\n",
      "- Your Age -\n",
      "- Your Profession -\n"
     ]
    }
   ],
   "source": [
    "#Exercise 5:\n",
    "print(\"- Your Name -\")\n",
    "print(\"- Your Age -\")\n",
    "print(\"- Your Profession -\")"
   ]
  },
  {
   "cell_type": "code",
   "execution_count": 33,
   "id": "ddeb293c-c3ac-45af-9508-331d82c05eba",
   "metadata": {},
   "outputs": [
    {
     "name": "stdout",
     "output_type": "stream",
     "text": [
      "(1, 'Welcome', 2, 'Hope')\n"
     ]
    }
   ],
   "source": [
    "#Excercise 6:\n",
    "# print mixed datatypes using Tuples\n",
    "tuple_1 = (1,'Welcome',2,'Hope')\n",
    "print(tuple_1)"
   ]
  },
  {
   "cell_type": "code",
   "execution_count": 37,
   "id": "610ee651-60bb-411f-891d-be3408aa2a88",
   "metadata": {},
   "outputs": [
    {
     "name": "stdout",
     "output_type": "stream",
     "text": [
      "((0, 1, 2, 3), ('python', 'HOPE'))\n"
     ]
    }
   ],
   "source": [
    "#Exercise 7:\n",
    "tuple1 = (0,1,2,3)\n",
    "tuple2 = ('python','HOPE')\n",
    "tuple3 = (tuple1, tuple2)\n",
    "print(tuple3)"
   ]
  },
  {
   "cell_type": "code",
   "execution_count": 43,
   "id": "1edda873-7b30-46c0-91e6-faa606bb2cc9",
   "metadata": {},
   "outputs": [
    {
     "name": "stdout",
     "output_type": "stream",
     "text": [
      "(20, 10, 16, 19, 25, 1, 276, 188)\n",
      "19  is odd\n",
      "25  is odd\n",
      "1  is odd\n"
     ]
    }
   ],
   "source": [
    "#Exercise 8:\n",
    "# print odd numbers in the tuple\n",
    "tuple_4 = (20,10,16,19,25,1,276,188)\n",
    "print(tuple_4)\n",
    "for k in tuple_4:\n",
    "    if k % 2 != 0:\n",
    "        print(k , \" is odd\" )"
   ]
  },
  {
   "cell_type": "code",
   "execution_count": 45,
   "id": "e6f85fa5-f8ec-42f8-a932-ace493435f5c",
   "metadata": {},
   "outputs": [
    {
     "name": "stdout",
     "output_type": "stream",
     "text": [
      "(20, 10, 16, 19, 25, 1, 276, 188)\n",
      "20  is even\n",
      "10  is even\n",
      "16  is even\n",
      "276  is even\n",
      "188  is even\n"
     ]
    }
   ],
   "source": [
    "#Exercise 9:\n",
    "# print even numbers in the tuple\n",
    "tuple_5 = (20,10,16,19,25,1,276,188)\n",
    "print(tuple_5)\n",
    "for k in tuple_4:\n",
    "    if k % 2 == 0:\n",
    "        print(k , \" is even\" )"
   ]
  }
 ],
 "metadata": {
  "kernelspec": {
   "display_name": "Python 3 (ipykernel)",
   "language": "python",
   "name": "python3"
  },
  "language_info": {
   "codemirror_mode": {
    "name": "ipython",
    "version": 3
   },
   "file_extension": ".py",
   "mimetype": "text/x-python",
   "name": "python",
   "nbconvert_exporter": "python",
   "pygments_lexer": "ipython3",
   "version": "3.12.4"
  }
 },
 "nbformat": 4,
 "nbformat_minor": 5
}
