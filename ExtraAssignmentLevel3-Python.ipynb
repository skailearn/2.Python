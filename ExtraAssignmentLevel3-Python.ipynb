{
 "cells": [
  {
   "cell_type": "code",
   "execution_count": 5,
   "id": "c5507435-a920-4969-80b9-81f71fc9b055",
   "metadata": {},
   "outputs": [
    {
     "name": "stdin",
     "output_type": "stream",
     "text": [
      "Enter Value =  10\n"
     ]
    },
    {
     "name": "stdout",
     "output_type": "stream",
     "text": [
      "10\n",
      "CORRECT\n"
     ]
    }
   ],
   "source": [
    "#Exercise 1:\n",
    "# print 'CORRECT\", if i == 10\n",
    "value = int(input(\"Enter Value = \"))\n",
    "print(value)\n",
    "if value == 10:\n",
    "    print(\"CORRECT\")\n",
    "else:\n",
    "    print(\"NOT CORRECT\")"
   ]
  },
  {
   "cell_type": "code",
   "execution_count": 9,
   "id": "cb8e88ac-9356-4249-876c-ef1b09e8804a",
   "metadata": {},
   "outputs": [
    {
     "name": "stdin",
     "output_type": "stream",
     "text": [
      "Enter the Password : HOPE@123\n"
     ]
    },
    {
     "name": "stdout",
     "output_type": "stream",
     "text": [
      "Your Password is Correct\n"
     ]
    }
   ],
   "source": [
    "#Exercise 2:\n",
    "#Check the password , using if and else\n",
    "pwd_str = input(\"Enter the Password :\")\n",
    "if pwd_str == \"HOPE@123\":\n",
    "    print(\"Your Password is Correct\")\n",
    "else:\n",
    "    print(\"Your Password is Not Correct\")"
   ]
  },
  {
   "cell_type": "code",
   "execution_count": 13,
   "id": "a44240b2-c223-45ba-9d50-545bd22def9b",
   "metadata": {},
   "outputs": [
    {
     "name": "stdin",
     "output_type": "stream",
     "text": [
      "Enter the age : 20\n"
     ]
    },
    {
     "name": "stdout",
     "output_type": "stream",
     "text": [
      "Age :  20\n",
      "Adult\n"
     ]
    }
   ],
   "source": [
    "#Exercise 3:\n",
    "#Cateory the people by their age like adult, citizen, senior citizen\"\n",
    "age = int(input(\"Enter the age :\"))\n",
    "print(\"Age : \", age)\n",
    "if age <=12:\n",
    "    print(\"Kid\")\n",
    "elif (age >13 and age <20):\n",
    "    print(\"Teen\")\n",
    "elif (age >=20 and age<=59):\n",
    "    print(\"Adult\")\n",
    "elif age >60:\n",
    "    print(\"Senior Citizen\")\n",
    "else:\n",
    "    print(\" Super Senior\")\n",
    "    "
   ]
  },
  {
   "cell_type": "code",
   "execution_count": 19,
   "id": "920a1616-ae5a-4db8-bc16-bbe9cedc762f",
   "metadata": {},
   "outputs": [
    {
     "name": "stdin",
     "output_type": "stream",
     "text": [
      "Enter Number : 1\n"
     ]
    },
    {
     "name": "stdout",
     "output_type": "stream",
     "text": [
      "1\n",
      "Number is postive\n"
     ]
    }
   ],
   "source": [
    "#Exercise 4:\n",
    "# find the number is negative or positive\n",
    "value = int(input(\"Enter Number :\"))\n",
    "print(value)\n",
    "if value <0:\n",
    "    print(\"Number is Negative\")\n",
    "elif value >0:\n",
    "    print(\"Number is postive\")\n",
    "else:\n",
    "    print(\"Number is Zero\")\n",
    "            "
   ]
  },
  {
   "cell_type": "code",
   "execution_count": 23,
   "id": "1460abac-dc98-4998-973a-307d61b45aae",
   "metadata": {},
   "outputs": [
    {
     "name": "stdin",
     "output_type": "stream",
     "text": [
      "Enter the Number  22\n"
     ]
    },
    {
     "name": "stdout",
     "output_type": "stream",
     "text": [
      "22\n",
      "Number is Not Divisible by 5\n"
     ]
    }
   ],
   "source": [
    "#Exercise 5:\n",
    "# Number is divisible by 5\n",
    "value = int(input(\"Enter the Number \"))\n",
    "print(value)\n",
    "if value % 5 == 0:\n",
    "    print(\"Number Divisible by 5\")\n",
    "else:\n",
    "    print(\"Number is Not Divisible by 5\")\n",
    "    "
   ]
  }
 ],
 "metadata": {
  "kernelspec": {
   "display_name": "Python 3 (ipykernel)",
   "language": "python",
   "name": "python3"
  },
  "language_info": {
   "codemirror_mode": {
    "name": "ipython",
    "version": 3
   },
   "file_extension": ".py",
   "mimetype": "text/x-python",
   "name": "python",
   "nbconvert_exporter": "python",
   "pygments_lexer": "ipython3",
   "version": "3.12.4"
  }
 },
 "nbformat": 4,
 "nbformat_minor": 5
}
