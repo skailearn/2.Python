{
 "cells": [
  {
   "cell_type": "code",
   "execution_count": 1,
   "id": "42b3df6e-0707-43d9-8f65-6ae3497d1c23",
   "metadata": {},
   "outputs": [
    {
     "name": "stdout",
     "output_type": "stream",
     "text": [
      "Welcome to Assignment - 1\n"
     ]
    }
   ],
   "source": [
    "#Exercise 1\n",
    "print(\"Welcome to Assignment - 1\")"
   ]
  },
  {
   "cell_type": "code",
   "execution_count": 5,
   "id": "4a08c2ea-2509-4ca0-8424-e3aa090046e7",
   "metadata": {},
   "outputs": [
    {
     "name": "stdout",
     "output_type": "stream",
     "text": [
      "Num1 =  10\n",
      "Num2 =  30\n",
      "Add  =  40\n"
     ]
    }
   ],
   "source": [
    "#Exercise 2\n",
    "num1 = 10\n",
    "num2 = 30\n",
    "add = num1 + num2\n",
    "print(\"Num1 = \", num1)\n",
    "print(\"Num2 = \", num2)\n",
    "print(\"Add  = \", add)"
   ]
  },
  {
   "cell_type": "code",
   "execution_count": 7,
   "id": "3c836429-b596-4b1d-a375-8e82083c3497",
   "metadata": {},
   "outputs": [
    {
     "name": "stdin",
     "output_type": "stream",
     "text": [
      "Enter the body mass index 34\n"
     ]
    },
    {
     "name": "stdout",
     "output_type": "stream",
     "text": [
      " Class 1 Obesity\n"
     ]
    }
   ],
   "source": [
    "#Exercise 3\n",
    "# body Mass Index\n",
    "BMI = int(input(\"Enter the body mass index\"))\n",
    "if BMI < 18.5 :\n",
    "    print(\"Below normal weight\")\n",
    "elif BMI >=18.5 and BMI <25 :\n",
    "    print(\"Normal weight\")\n",
    "elif BMI >=25 and BMI <30:\n",
    "    print(\"Overweight\")\n",
    "elif BMI >=30 and BMI <40:\n",
    "    print(\" Class 1 Obesity\")\n",
    "elif BMI >=35 and BMI <40:\n",
    "    print(\" Class 2 Obesity\")\n",
    "elif BMI>=40:\n",
    "    print(\"Class 3 Obesity\")\n",
    "else:\n",
    "    print(\"Invalid data\")"
   ]
  }
 ],
 "metadata": {
  "kernelspec": {
   "display_name": "Python 3 (ipykernel)",
   "language": "python",
   "name": "python3"
  },
  "language_info": {
   "codemirror_mode": {
    "name": "ipython",
    "version": 3
   },
   "file_extension": ".py",
   "mimetype": "text/x-python",
   "name": "python",
   "nbconvert_exporter": "python",
   "pygments_lexer": "ipython3",
   "version": "3.12.4"
  }
 },
 "nbformat": 4,
 "nbformat_minor": 5
}
